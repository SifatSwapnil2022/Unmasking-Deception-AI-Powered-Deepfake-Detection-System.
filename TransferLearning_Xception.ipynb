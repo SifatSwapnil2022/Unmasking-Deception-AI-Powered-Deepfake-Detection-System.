{
  "nbformat": 4,
  "nbformat_minor": 0,
  "metadata": {
    "colab": {
      "private_outputs": true,
      "provenance": [],
      "gpuType": "T4"
    },
    "kernelspec": {
      "name": "python3",
      "display_name": "Python 3"
    },
    "language_info": {
      "name": "python"
    },
    "accelerator": "GPU"
  },
  "cells": [
    {
      "cell_type": "code",
      "execution_count": null,
      "metadata": {
        "id": "7zxqRKO8Wdo5"
      },
      "outputs": [],
      "source": [
        "import numpy as np\n",
        "import matplotlib.pyplot as plt\n",
        "import seaborn as sns\n",
        "from sklearn.metrics import confusion_matrix, classification_report\n",
        "from tensorflow.keras.preprocessing.image import ImageDataGenerator\n",
        "from tensorflow.keras.models import Sequential\n",
        "from tensorflow.keras.layers import Dense, Dropout, Flatten\n",
        "from tensorflow.keras.optimizers import Adam\n",
        "from tensorflow.keras.applications import Xception\n",
        "from tensorflow.keras.utils import Sequence"
      ]
    },
    {
      "cell_type": "code",
      "source": [
        "from google.colab import drive\n",
        "drive.mount('/content/drive')"
      ],
      "metadata": {
        "id": "tJBVAm03Yi7Y"
      },
      "execution_count": null,
      "outputs": []
    },
    {
      "cell_type": "code",
      "source": [
        "# Function to add Gaussian noise\n",
        "def add_noise(img):\n",
        "    noise_factor = 0.1  # Adjust for noise level\n",
        "    noisy_img = img + noise_factor * np.random.normal(loc=0.0, scale=1.0, size=img.shape)\n",
        "    noisy_img = np.clip(noisy_img, 0.0, 1.0)  # Ensure values are between 0 and 1\n",
        "    return noisy_img\n",
        "\n",
        "# Custom Data Generator with noise addition\n",
        "class NoisyImageDataGenerator(Sequence):\n",
        "    def __init__(self, generator):\n",
        "        self.generator = generator\n",
        "\n",
        "    def __len__(self):\n",
        "        return len(self.generator)\n",
        "\n",
        "    def __getitem__(self, index):\n",
        "        images, labels = self.generator[index]\n",
        "        noisy_images = np.array([add_noise(img) for img in images])  # Apply noise\n",
        "        return noisy_images, labels"
      ],
      "metadata": {
        "id": "wh6Eb2IaYv5z"
      },
      "execution_count": null,
      "outputs": []
    },
    {
      "cell_type": "code",
      "source": [
        "# Setting up paths\n",
        "train_dir = '/content/drive/MyDrive/Artificial Intelligence part_1/Train'\n",
        "val_dir = '/content/drive/MyDrive/Artificial Intelligence part_1/Validation'\n",
        "test_dir = '/content/drive/MyDrive/Artificial Intelligence part_1/Test'"
      ],
      "metadata": {
        "id": "CW_oHJcZZ-Wp"
      },
      "execution_count": null,
      "outputs": []
    },
    {
      "cell_type": "code",
      "source": [
        "# Data generators with augmentation for training\n",
        "datagen = ImageDataGenerator(\n",
        "    rescale=1.0 / 255,\n",
        "    rotation_range=20,\n",
        "    width_shift_range=0.2,\n",
        "    height_shift_range=0.2,\n",
        "    shear_range=0.2,\n",
        "    zoom_range=0.2,\n",
        "    horizontal_flip=True,\n",
        "    fill_mode='nearest'\n",
        ")\n",
        "\n",
        "val_datagen = ImageDataGenerator(rescale=1.0 / 255)\n",
        "test_datagen = ImageDataGenerator(rescale=1.0 / 255)\n",
        "\n",
        "train_generator = datagen.flow_from_directory(\n",
        "    train_dir,\n",
        "    target_size=(299, 299),  # Xception input size\n",
        "    batch_size=32,\n",
        "    class_mode='binary'\n",
        ")\n",
        "train_generator = NoisyImageDataGenerator(train_generator)  # Add noise\n",
        "\n",
        "val_generator = val_datagen.flow_from_directory(\n",
        "    val_dir,\n",
        "    target_size=(299, 299),\n",
        "    batch_size=32,\n",
        "    class_mode='binary'\n",
        ")\n",
        "\n",
        "test_generator = test_datagen.flow_from_directory(\n",
        "    test_dir,\n",
        "    target_size=(299, 299),\n",
        "    batch_size=32,\n",
        "    class_mode='binary',\n",
        "    shuffle=False\n",
        ")\n"
      ],
      "metadata": {
        "id": "37V8VABFaBAk"
      },
      "execution_count": null,
      "outputs": []
    },
    {
      "cell_type": "code",
      "source": [
        "# Load the Xception model without the top layer (classifier)\n",
        "base_model = Xception(weights='imagenet', include_top=False, input_shape=(299, 299, 3))"
      ],
      "metadata": {
        "id": "gwzRbqKAaG9w"
      },
      "execution_count": null,
      "outputs": []
    },
    {
      "cell_type": "code",
      "source": [
        "# Freeze the base model layers\n",
        "for layer in base_model.layers:\n",
        "    layer.trainable = False"
      ],
      "metadata": {
        "id": "hlBVNaXBaMHy"
      },
      "execution_count": null,
      "outputs": []
    },
    {
      "cell_type": "code",
      "source": [
        "# Build the model with additional layers\n",
        "model = Sequential([\n",
        "    base_model,\n",
        "    Flatten(),\n",
        "    Dense(256, activation='relu'),\n",
        "    Dropout(0.5),\n",
        "    Dense(1, activation='sigmoid')  # Binary classification\n",
        "])"
      ],
      "metadata": {
        "id": "6PzALXy6aOzH"
      },
      "execution_count": null,
      "outputs": []
    },
    {
      "cell_type": "code",
      "source": [
        "# Compile the model\n",
        "model.compile(\n",
        "    optimizer=Adam(learning_rate=0.0005),\n",
        "    loss='binary_crossentropy',\n",
        "    metrics=['accuracy']\n",
        ")"
      ],
      "metadata": {
        "id": "GXjZsLnAaQL0"
      },
      "execution_count": null,
      "outputs": []
    },
    {
      "cell_type": "code",
      "source": [
        "# Train the model\n",
        "history = model.fit(\n",
        "    train_generator,\n",
        "    epochs=1,\n",
        "    validation_data=val_generator\n",
        ")"
      ],
      "metadata": {
        "id": "CqnG2VIVaTHs"
      },
      "execution_count": null,
      "outputs": []
    },
    {
      "cell_type": "code",
      "source": [
        "# Evaluate on test data\n",
        "test_loss, test_accuracy = model.evaluate(test_generator)\n",
        "print(f\"Test Loss: {test_loss}\")\n",
        "print(f\"Test Accuracy: {test_accuracy}\")"
      ],
      "metadata": {
        "id": "WvwOxZjqaVTV"
      },
      "execution_count": null,
      "outputs": []
    },
    {
      "cell_type": "code",
      "source": [
        "# Predictions and evaluation metrics\n",
        "predictions = model.predict(test_generator)\n",
        "predicted_classes = (predictions > 0.5).astype(int)\n",
        "true_classes = test_generator.classes\n",
        "class_labels = list(test_generator.class_indices.keys())"
      ],
      "metadata": {
        "id": "X_nVWBiCaYuB"
      },
      "execution_count": null,
      "outputs": []
    },
    {
      "cell_type": "code",
      "source": [
        "# Confusion Matrix\n",
        "conf_matrix = confusion_matrix(true_classes, predicted_classes)\n",
        "plt.figure(figsize=(6, 6))\n",
        "sns.heatmap(conf_matrix, annot=True, fmt='d', cbar=False, linewidths=1,\n",
        "            linecolor='black', xticklabels=class_labels, yticklabels=class_labels)\n",
        "plt.title('Confusion Matrix')\n",
        "plt.xlabel('Predicted')\n",
        "plt.ylabel('True')\n",
        "plt.show()"
      ],
      "metadata": {
        "id": "t-OQ7cpAaZY7"
      },
      "execution_count": null,
      "outputs": []
    },
    {
      "cell_type": "code",
      "source": [
        "# Classification Report\n",
        "report = classification_report(true_classes, predicted_classes, target_names=class_labels)\n",
        "print(\"Classification Report:\")\n",
        "print(report)"
      ],
      "metadata": {
        "id": "En-j39Boaa7-"
      },
      "execution_count": null,
      "outputs": []
    },
    {
      "cell_type": "code",
      "source": [
        "# Plot Performance Metrics\n",
        "plt.figure(figsize=(12, 5))\n",
        "plt.subplot(1, 2, 1)\n",
        "plt.plot(history.history['accuracy'], label='Training Accuracy')\n",
        "plt.plot(history.history['val_accuracy'], label='Validation Accuracy')\n",
        "plt.title('Model Accuracy')\n",
        "plt.xlabel('Epochs')\n",
        "plt.ylabel('Accuracy')\n",
        "plt.legend()\n",
        "\n",
        "plt.subplot(1, 2, 2)\n",
        "plt.plot(history.history['loss'], label='Training Loss')\n",
        "plt.plot(history.history['val_loss'], label='Validation Loss')\n",
        "plt.title('Model Loss')\n",
        "plt.xlabel('Epochs')\n",
        "plt.ylabel('Loss')\n",
        "plt.legend()\n",
        "\n",
        "plt.tight_layout()\n",
        "plt.show()"
      ],
      "metadata": {
        "id": "OqA0ue-hafXT"
      },
      "execution_count": null,
      "outputs": []
    },
    {
      "cell_type": "code",
      "source": [
        "# Check Test Data Predictions (Real or Fake)\n",
        "test_filenames = test_generator.filenames"
      ],
      "metadata": {
        "id": "y1zdq_hPaiCw"
      },
      "execution_count": null,
      "outputs": []
    },
    {
      "cell_type": "code",
      "source": [
        "# Define the number of images to display\n",
        "num_images_to_display = 20"
      ],
      "metadata": {
        "id": "scTkgodQakFL"
      },
      "execution_count": null,
      "outputs": []
    },
    {
      "cell_type": "code",
      "source": [
        "# Create a grid layout for better visualization\n",
        "rows, cols = 4, 5\n",
        "plt.figure(figsize=(15, 12))\n",
        "\n",
        "for i in range(num_images_to_display):\n",
        "    img_path = test_dir + '/' + test_filenames[i]\n",
        "    img = plt.imread(img_path)\n",
        "\n",
        "    # Get the prediction\n",
        "    prediction = 'Real' if predicted_classes[i][0] == 0 else 'Fake'\n",
        "\n",
        "    # Plot the image\n",
        "    plt.subplot(rows, cols, i + 1)\n",
        "    plt.imshow(img)\n",
        "    plt.title(f\"Predicted: {prediction}\", fontsize=10)\n",
        "    plt.axis('off')\n",
        "\n",
        "# Add a title to the overall grid\n",
        "plt.suptitle(\"Test Data Predictions (Real or Fake)\", fontsize=16)\n",
        "plt.tight_layout(rect=[0, 0, 1, 0.95])\n",
        "plt.show()\n"
      ],
      "metadata": {
        "id": "gnZG6lytanLb"
      },
      "execution_count": null,
      "outputs": []
    }
  ]
}