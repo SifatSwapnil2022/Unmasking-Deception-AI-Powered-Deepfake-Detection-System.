{
 "cells": [
  {
   "cell_type": "markdown",
   "id": "126419d7",
   "metadata": {
    "_cell_guid": "b1076dfc-b9ad-4769-8c92-a6c4dae69d19",
    "_uuid": "8f2839f25d086af736a60e9eeb907d3b93b6e0e5",
    "papermill": {
     "duration": 0.008876,
     "end_time": "2024-09-05T04:22:09.121913",
     "exception": false,
     "start_time": "2024-09-05T04:22:09.113037",
     "status": "completed"
    },
    "tags": []
   },
   "source": [
    "# 🎭 **Introduction to Deepfakes**\n",
    "\n",
    "> Deepfakes are synthetic media where a person in an existing image or video is replaced with someone else's likeness. \n",
    ">\n",
    "> Utilizing deep learning models, particularly **Generative Adversarial Networks (GANs)**, deepfakes have become increasingly realistic. \n",
    ">\n",
    "> While they offer creative possibilities in entertainment and art, they also present significant ethical and security challenges, such as **misinformation**, **identity theft**, and **defamation**.\n",
    "\n",
    "---\n",
    "\n",
    "## 🚨 **Understanding the Threat of Deepfakes**\n",
    "\n",
    "The growing sophistication of deepfakes has made it difficult to distinguish **real content** from **fake**. This poses serious risks in various sectors, including **politics**, **finance**, and **personal security**. The potential for misuse raises concerns about the **reliability of visual evidence** in our digital age, making it crucial to develop effective detection methods.\n",
    "\n",
    "\n",
    "---\n",
    "\n",
    "## 🧠 **ResNet50 for Deepfake Detection**\n",
    "\n",
    "**ResNet50**, a convolutional neural network (CNN) with 50 layers, is a powerful tool for **image classification** tasks. Its deep architecture enables it to capture intricate patterns in facial features, making it highly effective for **deepfake detection**. By leveraging ResNet50, we can identify subtle inconsistencies in manipulated images, providing a robust solution for combating deepfake threats.\n",
    "\n",
    "---\n",
    "\n",
    "## 🛠️ **Building the Deepfake Classifier**\n",
    "\n",
    "In this notebook, we implement a deepfake detection model using the **ResNet50** architecture. The model is trained on a dataset containing both **real** and **fake** images, learning to detect the subtle differences that indicate deepfake manipulation. This approach aims to create a **reliable system** for identifying and mitigating the impact of deepfakes.\n",
    "\n",
    "---\n",
    "\n",
    "### 💡 **Key Points:**\n",
    "- **Introduction to Deepfakes**: Understanding the technology and its implications.\n",
    "- **Threats of Deepfakes**: The risks posed by deepfakes in various domains.\n",
    "- **ResNet50**: Leveraging advanced CNN architecture for detection.\n",
    "- **Classifier**: Building a model that can reliably distinguish between real and fake media.\n",
    "\n"
   ]
  },
  {
   "cell_type": "markdown",
   "id": "d842cdb1",
   "metadata": {
    "papermill": {
     "duration": 0.007752,
     "end_time": "2024-09-05T04:22:09.137737",
     "exception": false,
     "start_time": "2024-09-05T04:22:09.129985",
     "status": "completed"
    },
    "tags": []
   },
   "source": [
    "<h2 style=\"color: Black;\">Import The Necessary Library</h2>\n"
   ]
  },
  {
   "cell_type": "code",
   "execution_count": 1,
   "id": "bc2dc4bf",
   "metadata": {
    "execution": {
     "iopub.execute_input": "2024-09-05T04:22:09.154480Z",
     "iopub.status.busy": "2024-09-05T04:22:09.154072Z",
     "iopub.status.idle": "2024-09-05T04:22:23.374896Z",
     "shell.execute_reply": "2024-09-05T04:22:23.373996Z"
    },
    "papermill": {
     "duration": 14.232217,
     "end_time": "2024-09-05T04:22:23.377477",
     "exception": false,
     "start_time": "2024-09-05T04:22:09.145260",
     "status": "completed"
    },
    "tags": []
   },
   "outputs": [],
   "source": [
    "import tensorflow as tf\n",
    "import numpy as np### math computations\n",
    "import matplotlib.pyplot as plt### plotting bar chart\n",
    "import sklearn### machine learning library\n",
    "import cv2## image processing\n",
    "from sklearn.metrics import confusion_matrix, roc_curve### metrics\n",
    "from tensorflow.keras.models import Model\n",
    "from tensorflow.keras.layers import Layer\n",
    "from tensorflow.keras.layers import (GlobalAveragePooling2D, Activation, MaxPooling2D, Add, Conv2D, MaxPool2D, Dense,\n",
    "                                     Flatten, InputLayer, BatchNormalization, Input, Embedding, Permute,\n",
    "                                     Dropout, RandomFlip, RandomRotation, LayerNormalization, MultiHeadAttention,\n",
    "                                     RandomContrast, Rescaling, Resizing, Reshape)\n",
    "from tensorflow.keras.applications import EfficientNetB0\n",
    "from tensorflow.keras.losses import BinaryCrossentropy,CategoricalCrossentropy, SparseCategoricalCrossentropy\n",
    "from tensorflow.keras.metrics import Accuracy,TopKCategoricalAccuracy, CategoricalAccuracy, SparseCategoricalAccuracy\n",
    "from tensorflow.keras.optimizers import Adam\n",
    "from tensorflow.keras import layers, models\n",
    "from tensorflow.keras.regularizers  import L2, L1\n",
    "import warnings\n",
    "warnings.filterwarnings('ignore')\n",
    "import tensorflow as tf\n",
    "from tensorflow.keras.applications import EfficientNetB0\n",
    "from tensorflow.keras.layers import Dense, Flatten\n",
    "from tensorflow.keras.models import Model"
   ]
  },
  {
   "cell_type": "markdown",
   "id": "8b4961d3",
   "metadata": {
    "papermill": {
     "duration": 0.007786,
     "end_time": "2024-09-05T04:22:23.393590",
     "exception": false,
     "start_time": "2024-09-05T04:22:23.385804",
     "status": "completed"
    },
    "tags": []
   },
   "source": [
    "<h2 style=\"color: BLack;\">Data Collection</h2>\n"
   ]
  },
  {
   "cell_type": "code",
   "execution_count": 2,
   "id": "e63e7526",
   "metadata": {
    "execution": {
     "iopub.execute_input": "2024-09-05T04:22:23.410577Z",
     "iopub.status.busy": "2024-09-05T04:22:23.409925Z",
     "iopub.status.idle": "2024-09-05T04:22:23.414654Z",
     "shell.execute_reply": "2024-09-05T04:22:23.413785Z"
    },
    "papermill": {
     "duration": 0.015491,
     "end_time": "2024-09-05T04:22:23.416804",
     "exception": false,
     "start_time": "2024-09-05T04:22:23.401313",
     "status": "completed"
    },
    "tags": []
   },
   "outputs": [],
   "source": [
    "train_directory = \"/kaggle/input/deepfake-and-real-images/Dataset/Train\"\n",
    "val_directory = \"/kaggle/input/deepfake-and-real-images/Dataset/Validation\""
   ]
  },
  {
   "cell_type": "code",
   "execution_count": 3,
   "id": "a9f96dba",
   "metadata": {
    "execution": {
     "iopub.execute_input": "2024-09-05T04:22:23.434538Z",
     "iopub.status.busy": "2024-09-05T04:22:23.434202Z",
     "iopub.status.idle": "2024-09-05T04:22:23.439990Z",
     "shell.execute_reply": "2024-09-05T04:22:23.439062Z"
    },
    "papermill": {
     "duration": 0.01654,
     "end_time": "2024-09-05T04:22:23.442165",
     "exception": false,
     "start_time": "2024-09-05T04:22:23.425625",
     "status": "completed"
    },
    "tags": []
   },
   "outputs": [],
   "source": [
    "CONFIGURATION = {\n",
    "    \"BATCH_SIZE\": 32,\n",
    "    \"IM_SIZE\":224,\n",
    "    \"LEARNING_RATE\": 1e-3,\n",
    "    \"N_EPOCHS\": 10,\n",
    "    \"DROPOUT_RATE\": 0.05,\n",
    "    \"REGULARIZATION_RATE\": 0.001,\n",
    "    \"N_FILTERS\": 6,\n",
    "    \"KERNEL_SIZE\": 3,\n",
    "    \"N_STRIDES\": 1,\n",
    "    \"POOL_SIZE\": 2,\n",
    "    \"N_DENSE_1\": 1024,\n",
    "    \"N_DENSE_2\": 128,\n",
    "    \"NUM_CLASSES\": 2,\n",
    "    \"PATCH_SIZE\": 32,\n",
    "    \"PROJ_DIM\": 768,\n",
    "    \"CLASS_NAMES\": [\"Fake\",\"Real\"]\n",
    "}"
   ]
  },
  {
   "cell_type": "code",
   "execution_count": 4,
   "id": "d4ce0cf0",
   "metadata": {
    "execution": {
     "iopub.execute_input": "2024-09-05T04:22:23.459371Z",
     "iopub.status.busy": "2024-09-05T04:22:23.459099Z",
     "iopub.status.idle": "2024-09-05T04:24:15.491803Z",
     "shell.execute_reply": "2024-09-05T04:24:15.490944Z"
    },
    "papermill": {
     "duration": 112.043906,
     "end_time": "2024-09-05T04:24:15.494408",
     "exception": false,
     "start_time": "2024-09-05T04:22:23.450502",
     "status": "completed"
    },
    "tags": []
   },
   "outputs": [
    {
     "name": "stdout",
     "output_type": "stream",
     "text": [
      "Found 140002 files belonging to 2 classes.\n"
     ]
    }
   ],
   "source": [
    "train_dataset = tf.keras.utils.image_dataset_from_directory(\n",
    "    train_directory,\n",
    "    labels='inferred',\n",
    "    label_mode='categorical',\n",
    "    class_names=CONFIGURATION[\"CLASS_NAMES\"],\n",
    "    color_mode='rgb',\n",
    "    batch_size=CONFIGURATION[\"BATCH_SIZE\"],\n",
    "    image_size=(CONFIGURATION[\"IM_SIZE\"], CONFIGURATION[\"IM_SIZE\"]),\n",
    "    shuffle=True\n",
    ")"
   ]
  },
  {
   "cell_type": "code",
   "execution_count": 5,
   "id": "2f7f8e7b",
   "metadata": {
    "execution": {
     "iopub.execute_input": "2024-09-05T04:24:15.512198Z",
     "iopub.status.busy": "2024-09-05T04:24:15.511834Z",
     "iopub.status.idle": "2024-09-05T04:24:45.402116Z",
     "shell.execute_reply": "2024-09-05T04:24:45.401038Z"
    },
    "papermill": {
     "duration": 29.902016,
     "end_time": "2024-09-05T04:24:45.404577",
     "exception": false,
     "start_time": "2024-09-05T04:24:15.502561",
     "status": "completed"
    },
    "tags": []
   },
   "outputs": [
    {
     "name": "stdout",
     "output_type": "stream",
     "text": [
      "Found 39428 files belonging to 2 classes.\n"
     ]
    }
   ],
   "source": [
    "val_dataset = tf.keras.utils.image_dataset_from_directory(\n",
    "    val_directory,\n",
    "    labels='inferred',\n",
    "    label_mode='categorical',\n",
    "    class_names=CONFIGURATION[\"CLASS_NAMES\"],\n",
    "    color_mode='rgb',\n",
    "    batch_size=1,#CONFIGURATION[\"BATCH_SIZE\"],\n",
    "    image_size=(CONFIGURATION[\"IM_SIZE\"], CONFIGURATION[\"IM_SIZE\"]),\n",
    "    shuffle=True,\n",
    "    seed=99,\n",
    ")"
   ]
  },
  {
   "cell_type": "markdown",
   "id": "576b9b03",
   "metadata": {
    "papermill": {
     "duration": 0.008111,
     "end_time": "2024-09-05T04:24:45.421089",
     "exception": false,
     "start_time": "2024-09-05T04:24:45.412978",
     "status": "completed"
    },
    "tags": []
   },
   "source": [
    "<h2 style=\"color: black;\">Pre-Fetch The Data For The Training Process</h2>\n"
   ]
  },
  {
   "cell_type": "code",
   "execution_count": 6,
   "id": "b56161e3",
   "metadata": {
    "execution": {
     "iopub.execute_input": "2024-09-05T04:24:45.439064Z",
     "iopub.status.busy": "2024-09-05T04:24:45.438667Z",
     "iopub.status.idle": "2024-09-05T04:24:45.444042Z",
     "shell.execute_reply": "2024-09-05T04:24:45.443031Z"
    },
    "papermill": {
     "duration": 0.016775,
     "end_time": "2024-09-05T04:24:45.446292",
     "exception": false,
     "start_time": "2024-09-05T04:24:45.429517",
     "status": "completed"
    },
    "tags": []
   },
   "outputs": [],
   "source": [
    "training_dataset = (\n",
    "    train_dataset\n",
    "    .prefetch(tf.data.AUTOTUNE)\n",
    ")"
   ]
  },
  {
   "cell_type": "code",
   "execution_count": 7,
   "id": "ca690ef0",
   "metadata": {
    "execution": {
     "iopub.execute_input": "2024-09-05T04:24:45.464403Z",
     "iopub.status.busy": "2024-09-05T04:24:45.464071Z",
     "iopub.status.idle": "2024-09-05T04:24:45.469342Z",
     "shell.execute_reply": "2024-09-05T04:24:45.468400Z"
    },
    "papermill": {
     "duration": 0.016745,
     "end_time": "2024-09-05T04:24:45.471490",
     "exception": false,
     "start_time": "2024-09-05T04:24:45.454745",
     "status": "completed"
    },
    "tags": []
   },
   "outputs": [],
   "source": [
    "validation_dataset = (\n",
    "    val_dataset\n",
    "    .prefetch(tf.data.AUTOTUNE)\n",
    ")"
   ]
  },
  {
   "cell_type": "markdown",
   "id": "31956db4",
   "metadata": {
    "papermill": {
     "duration": 0.008012,
     "end_time": "2024-09-05T04:24:45.488276",
     "exception": false,
     "start_time": "2024-09-05T04:24:45.480264",
     "status": "completed"
    },
    "tags": []
   },
   "source": [
    "<h2 style=\"color: black;\">Model Building</h2>\n"
   ]
  },
  {
   "cell_type": "code",
   "execution_count": 8,
   "id": "7d5263bc",
   "metadata": {
    "execution": {
     "iopub.execute_input": "2024-09-05T04:24:45.506529Z",
     "iopub.status.busy": "2024-09-05T04:24:45.506220Z",
     "iopub.status.idle": "2024-09-05T04:24:47.407061Z",
     "shell.execute_reply": "2024-09-05T04:24:47.405965Z"
    },
    "papermill": {
     "duration": 1.913055,
     "end_time": "2024-09-05T04:24:47.409809",
     "exception": false,
     "start_time": "2024-09-05T04:24:45.496754",
     "status": "completed"
    },
    "tags": []
   },
   "outputs": [
    {
     "name": "stdout",
     "output_type": "stream",
     "text": [
      "Downloading data from https://storage.googleapis.com/keras-applications/efficientnetb0_notop.h5\n",
      "\u001b[1m16705208/16705208\u001b[0m \u001b[32m━━━━━━━━━━━━━━━━━━━━\u001b[0m\u001b[37m\u001b[0m \u001b[1m0s\u001b[0m 0us/step\n"
     ]
    }
   ],
   "source": [
    "input_shape = (224, 224, 3)\n",
    "# Load the EfficientNetB0 model, excluding the top layers (include_top=False)\n",
    "base_model = EfficientNetB0(weights='imagenet', include_top=False, input_shape=input_shape)\n",
    "# Freeze the base model\n",
    "base_model.trainable = False\n",
    "\n",
    "# Create a Sequential model and add layers\n",
    "model = models.Sequential()\n",
    "\n",
    "# Add the EfficientNet base model\n",
    "model.add(base_model)\n",
    "\n",
    "# Add a global average pooling layer\n",
    "model.add(layers.GlobalAveragePooling2D())\n",
    "\n",
    "# Add a dropout layer for regularization\n",
    "model.add(layers.Dropout(0.5))\n",
    "\n",
    "# Add a dense layer with softmax activation for classification\n",
    "model.add(layers.Dense(CONFIGURATION[\"NUM_CLASSES\"], activation = \"sigmoid\"))"
   ]
  },
  {
   "cell_type": "code",
   "execution_count": 9,
   "id": "9b84e3fa",
   "metadata": {
    "execution": {
     "iopub.execute_input": "2024-09-05T04:24:47.428871Z",
     "iopub.status.busy": "2024-09-05T04:24:47.428259Z",
     "iopub.status.idle": "2024-09-05T04:24:47.432624Z",
     "shell.execute_reply": "2024-09-05T04:24:47.431754Z"
    },
    "papermill": {
     "duration": 0.015849,
     "end_time": "2024-09-05T04:24:47.434543",
     "exception": false,
     "start_time": "2024-09-05T04:24:47.418694",
     "status": "completed"
    },
    "tags": []
   },
   "outputs": [],
   "source": [
    "loss_function = BinaryCrossentropy()"
   ]
  },
  {
   "cell_type": "code",
   "execution_count": 10,
   "id": "1bc6fd73",
   "metadata": {
    "execution": {
     "iopub.execute_input": "2024-09-05T04:24:47.452121Z",
     "iopub.status.busy": "2024-09-05T04:24:47.451837Z",
     "iopub.status.idle": "2024-09-05T04:24:47.463924Z",
     "shell.execute_reply": "2024-09-05T04:24:47.463258Z"
    },
    "papermill": {
     "duration": 0.023042,
     "end_time": "2024-09-05T04:24:47.465843",
     "exception": false,
     "start_time": "2024-09-05T04:24:47.442801",
     "status": "completed"
    },
    "tags": []
   },
   "outputs": [],
   "source": [
    "model.compile(\n",
    "  optimizer = Adam(learning_rate = CONFIGURATION[\"LEARNING_RATE\"]),\n",
    "  loss = loss_function,metrics=['accuracy']\n",
    ")"
   ]
  },
  {
   "cell_type": "markdown",
   "id": "7956e2f0",
   "metadata": {
    "papermill": {
     "duration": 0.007989,
     "end_time": "2024-09-05T04:24:47.481794",
     "exception": false,
     "start_time": "2024-09-05T04:24:47.473805",
     "status": "completed"
    },
    "tags": []
   },
   "source": [
    "<h2 style=\"color: black;\">Model Training</h2>\n"
   ]
  },
  {
   "cell_type": "code",
   "execution_count": 11,
   "id": "1b5fb3c6",
   "metadata": {
    "execution": {
     "iopub.execute_input": "2024-09-05T04:24:47.499262Z",
     "iopub.status.busy": "2024-09-05T04:24:47.498992Z",
     "iopub.status.idle": "2024-09-05T05:30:39.705666Z",
     "shell.execute_reply": "2024-09-05T05:30:39.704582Z"
    },
    "papermill": {
     "duration": 3954.317076,
     "end_time": "2024-09-05T05:30:41.807035",
     "exception": false,
     "start_time": "2024-09-05T04:24:47.489959",
     "status": "completed"
    },
    "tags": []
   },
   "outputs": [
    {
     "name": "stdout",
     "output_type": "stream",
     "text": [
      "Epoch 1/10\n"
     ]
    },
    {
     "name": "stderr",
     "output_type": "stream",
     "text": [
      "WARNING: All log messages before absl::InitializeLog() is called are written to STDERR\n",
      "I0000 00:00:1725510298.498879      73 service.cc:145] XLA service 0x7b6cac010680 initialized for platform CUDA (this does not guarantee that XLA will be used). Devices:\n",
      "I0000 00:00:1725510298.498937      73 service.cc:153]   StreamExecutor device (0): Tesla T4, Compute Capability 7.5\n",
      "I0000 00:00:1725510298.498945      73 service.cc:153]   StreamExecutor device (1): Tesla T4, Compute Capability 7.5\n"
     ]
    },
    {
     "name": "stdout",
     "output_type": "stream",
     "text": [
      "\u001b[1m   4/4376\u001b[0m \u001b[37m━━━━━━━━━━━━━━━━━━━━\u001b[0m \u001b[1m3:18\u001b[0m 45ms/step - accuracy: 0.4661 - loss: 0.7386"
     ]
    },
    {
     "name": "stderr",
     "output_type": "stream",
     "text": [
      "I0000 00:00:1725510320.430028      73 device_compiler.h:188] Compiled cluster using XLA!  This line is logged at most once for the lifetime of the process.\n"
     ]
    },
    {
     "name": "stdout",
     "output_type": "stream",
     "text": [
      "\u001b[1m4376/4376\u001b[0m \u001b[32m━━━━━━━━━━━━━━━━━━━━\u001b[0m\u001b[37m\u001b[0m \u001b[1m486s\u001b[0m 104ms/step - accuracy: 0.7367 - loss: 0.5253 - val_accuracy: 0.7977 - val_loss: 0.4361\n",
      "Epoch 2/10\n",
      "\u001b[1m4376/4376\u001b[0m \u001b[32m━━━━━━━━━━━━━━━━━━━━\u001b[0m\u001b[37m\u001b[0m \u001b[1m368s\u001b[0m 84ms/step - accuracy: 0.7616 - loss: 0.4876 - val_accuracy: 0.7941 - val_loss: 0.4410\n",
      "Epoch 3/10\n",
      "\u001b[1m4376/4376\u001b[0m \u001b[32m━━━━━━━━━━━━━━━━━━━━\u001b[0m\u001b[37m\u001b[0m \u001b[1m367s\u001b[0m 84ms/step - accuracy: 0.7627 - loss: 0.4866 - val_accuracy: 0.7959 - val_loss: 0.4398\n",
      "Epoch 4/10\n",
      "\u001b[1m4376/4376\u001b[0m \u001b[32m━━━━━━━━━━━━━━━━━━━━\u001b[0m\u001b[37m\u001b[0m \u001b[1m430s\u001b[0m 98ms/step - accuracy: 0.7641 - loss: 0.4857 - val_accuracy: 0.7958 - val_loss: 0.4401\n",
      "Epoch 5/10\n",
      "\u001b[1m4376/4376\u001b[0m \u001b[32m━━━━━━━━━━━━━━━━━━━━\u001b[0m\u001b[37m\u001b[0m \u001b[1m421s\u001b[0m 96ms/step - accuracy: 0.7613 - loss: 0.4866 - val_accuracy: 0.7982 - val_loss: 0.4363\n",
      "Epoch 6/10\n",
      "\u001b[1m4376/4376\u001b[0m \u001b[32m━━━━━━━━━━━━━━━━━━━━\u001b[0m\u001b[37m\u001b[0m \u001b[1m397s\u001b[0m 91ms/step - accuracy: 0.7644 - loss: 0.4852 - val_accuracy: 0.7955 - val_loss: 0.4389\n",
      "Epoch 7/10\n",
      "\u001b[1m4376/4376\u001b[0m \u001b[32m━━━━━━━━━━━━━━━━━━━━\u001b[0m\u001b[37m\u001b[0m \u001b[1m361s\u001b[0m 82ms/step - accuracy: 0.7614 - loss: 0.4860 - val_accuracy: 0.7938 - val_loss: 0.4415\n",
      "Epoch 8/10\n",
      "\u001b[1m4376/4376\u001b[0m \u001b[32m━━━━━━━━━━━━━━━━━━━━\u001b[0m\u001b[37m\u001b[0m \u001b[1m374s\u001b[0m 85ms/step - accuracy: 0.7639 - loss: 0.4857 - val_accuracy: 0.7974 - val_loss: 0.4370\n",
      "Epoch 9/10\n",
      "\u001b[1m4376/4376\u001b[0m \u001b[32m━━━━━━━━━━━━━━━━━━━━\u001b[0m\u001b[37m\u001b[0m \u001b[1m374s\u001b[0m 86ms/step - accuracy: 0.7638 - loss: 0.4862 - val_accuracy: 0.7952 - val_loss: 0.4400\n",
      "Epoch 10/10\n",
      "\u001b[1m4376/4376\u001b[0m \u001b[32m━━━━━━━━━━━━━━━━━━━━\u001b[0m\u001b[37m\u001b[0m \u001b[1m376s\u001b[0m 86ms/step - accuracy: 0.7624 - loss: 0.4866 - val_accuracy: 0.7972 - val_loss: 0.4369\n"
     ]
    }
   ],
   "source": [
    "history =model.fit(\n",
    "  training_dataset,\n",
    "  validation_data = validation_dataset,\n",
    "  batch_size= CONFIGURATION[\"BATCH_SIZE\"],\n",
    "\n",
    "  epochs = CONFIGURATION[\"N_EPOCHS\"],\n",
    "  verbose = 1\n",
    ")"
   ]
  },
  {
   "cell_type": "markdown",
   "id": "089e4b9e",
   "metadata": {
    "papermill": {
     "duration": 2.096728,
     "end_time": "2024-09-05T05:30:46.001620",
     "exception": false,
     "start_time": "2024-09-05T05:30:43.904892",
     "status": "completed"
    },
    "tags": []
   },
   "source": [
    "<h2 style=\"color: black;\">Visualization Of The Loss</h2>\n"
   ]
  },
  {
   "cell_type": "code",
   "execution_count": 12,
   "id": "3c774617",
   "metadata": {
    "execution": {
     "iopub.execute_input": "2024-09-05T05:30:50.179028Z",
     "iopub.status.busy": "2024-09-05T05:30:50.178620Z",
     "iopub.status.idle": "2024-09-05T05:30:50.517008Z",
     "shell.execute_reply": "2024-09-05T05:30:50.516081Z"
    },
    "papermill": {
     "duration": 2.444835,
     "end_time": "2024-09-05T05:30:50.519330",
     "exception": false,
     "start_time": "2024-09-05T05:30:48.074495",
     "status": "completed"
    },
    "tags": []
   },
   "outputs": [
    {
     "data": {
      "image/png": "[encoded data removed]",
      "text/plain": [
       "<Figure size 640x480 with 1 Axes>"
      ]
     },
     "metadata": {},
     "output_type": "display_data"
    }
   ],
   "source": [
    "plt.plot(history.history['loss'])\n",
    "plt.plot(history.history['val_loss'])\n",
    "plt.title('Model loss')\n",
    "plt.ylabel('loss')\n",
    "plt.xlabel('epoch')\n",
    "plt.legend(['train_loss', 'val_loss'])\n",
    "plt.show()"
   ]
  },
  {
   "cell_type": "code",
   "execution_count": 13,
   "id": "ef9438dc",
   "metadata": {
    "execution": {
     "iopub.execute_input": "2024-09-05T05:30:54.825529Z",
     "iopub.status.busy": "2024-09-05T05:30:54.825102Z",
     "iopub.status.idle": "2024-09-05T05:30:55.152440Z",
     "shell.execute_reply": "2024-09-05T05:30:55.151239Z"
    },
    "papermill": {
     "duration": 2.516501,
     "end_time": "2024-09-05T05:30:55.154798",
     "exception": false,
     "start_time": "2024-09-05T05:30:52.638297",
     "status": "completed"
    },
    "tags": []
   },
   "outputs": [
    {
     "data": {
      "image/png": "[encoded data removed]",
      "text/plain": [
       "<Figure size 640x480 with 1 Axes>"
      ]
     },
     "metadata": {},
     "output_type": "display_data"
    }
   ],
   "source": [
    "plt.plot(history.history['accuracy'])\n",
    "plt.plot(history.history['val_accuracy'])\n",
    "plt.title('Model accuracy')\n",
    "plt.ylabel('accuracy')\n",
    "plt.xlabel('epoch')\n",
    "plt.legend(['train_accuracy', 'val_accuracy'])\n",
    "plt.show()"
   ]
  },
  {
   "cell_type": "markdown",
   "id": "c0e9ca9d",
   "metadata": {
    "papermill": {
     "duration": 2.151198,
     "end_time": "2024-09-05T05:30:59.457019",
     "exception": false,
     "start_time": "2024-09-05T05:30:57.305821",
     "status": "completed"
    },
    "tags": []
   },
   "source": [
    "<h2 style=\"color: black;\">Test The Model</h2>\n"
   ]
  },
  {
   "cell_type": "code",
   "execution_count": 14,
   "id": "47d9a14a",
   "metadata": {
    "execution": {
     "iopub.execute_input": "2024-09-05T05:31:03.736230Z",
     "iopub.status.busy": "2024-09-05T05:31:03.735321Z",
     "iopub.status.idle": "2024-09-05T05:31:03.740091Z",
     "shell.execute_reply": "2024-09-05T05:31:03.739200Z"
    },
    "papermill": {
     "duration": 2.163922,
     "end_time": "2024-09-05T05:31:03.742272",
     "exception": false,
     "start_time": "2024-09-05T05:31:01.578350",
     "status": "completed"
    },
    "tags": []
   },
   "outputs": [],
   "source": [
    "TESTDATA='/kaggle/input/deepfake-and-real-images/Dataset/Test'"
   ]
  },
  {
   "cell_type": "code",
   "execution_count": 15,
   "id": "8d50b890",
   "metadata": {
    "execution": {
     "iopub.execute_input": "2024-09-05T05:31:07.960210Z",
     "iopub.status.busy": "2024-09-05T05:31:07.959787Z",
     "iopub.status.idle": "2024-09-05T05:31:18.539573Z",
     "shell.execute_reply": "2024-09-05T05:31:18.538590Z"
    },
    "papermill": {
     "duration": 12.688164,
     "end_time": "2024-09-05T05:31:18.542193",
     "exception": false,
     "start_time": "2024-09-05T05:31:05.854029",
     "status": "completed"
    },
    "tags": []
   },
   "outputs": [
    {
     "name": "stdout",
     "output_type": "stream",
     "text": [
      "Found 10905 files belonging to 2 classes.\n"
     ]
    }
   ],
   "source": [
    "import tensorflow as tf\n",
    "\n",
    "# Load the test dataset\n",
    "test_dataset = tf.keras.utils.image_dataset_from_directory(\n",
    "    TESTDATA,  # Replace with your test data directory\n",
    "    image_size=(224, 224),  # Image size should match the input shape of your model\n",
    "    batch_size=32,  # Batch size\n",
    "    shuffle=False  # Ensure the data is not shuffled\n",
    ")"
   ]
  },
  {
   "cell_type": "code",
   "execution_count": 16,
   "id": "4cc6fbfd",
   "metadata": {
    "execution": {
     "iopub.execute_input": "2024-09-05T05:31:22.733273Z",
     "iopub.status.busy": "2024-09-05T05:31:22.732475Z",
     "iopub.status.idle": "2024-09-05T05:31:22.737687Z",
     "shell.execute_reply": "2024-09-05T05:31:22.736664Z"
    },
    "papermill": {
     "duration": 2.097936,
     "end_time": "2024-09-05T05:31:22.740340",
     "exception": false,
     "start_time": "2024-09-05T05:31:20.642404",
     "status": "completed"
    },
    "tags": []
   },
   "outputs": [
    {
     "name": "stdout",
     "output_type": "stream",
     "text": [
      "['Fake', 'Real']\n"
     ]
    }
   ],
   "source": [
    "class_names = test_dataset.class_names\n",
    "print(class_names)"
   ]
  },
  {
   "cell_type": "code",
   "execution_count": 17,
   "id": "44feb8c3",
   "metadata": {
    "execution": {
     "iopub.execute_input": "2024-09-05T05:31:27.016875Z",
     "iopub.status.busy": "2024-09-05T05:31:27.016435Z",
     "iopub.status.idle": "2024-09-05T05:31:54.332074Z",
     "shell.execute_reply": "2024-09-05T05:31:54.331145Z"
    },
    "papermill": {
     "duration": 29.483353,
     "end_time": "2024-09-05T05:31:54.334578",
     "exception": false,
     "start_time": "2024-09-05T05:31:24.851225",
     "status": "completed"
    },
    "tags": []
   },
   "outputs": [
    {
     "name": "stdout",
     "output_type": "stream",
     "text": [
      "\u001b[1m341/341\u001b[0m \u001b[32m━━━━━━━━━━━━━━━━━━━━\u001b[0m\u001b[37m\u001b[0m \u001b[1m27s\u001b[0m 63ms/step\n"
     ]
    }
   ],
   "source": [
    "# Predict using the model\n",
    "y_pred = model.predict(test_dataset)\n",
    "\n",
    "# Convert predictions to class labels\n",
    "y_pred_classes = tf.argmax(y_pred, axis=1)"
   ]
  },
  {
   "cell_type": "code",
   "execution_count": 18,
   "id": "fd66dea0",
   "metadata": {
    "execution": {
     "iopub.execute_input": "2024-09-05T05:31:58.641203Z",
     "iopub.status.busy": "2024-09-05T05:31:58.640800Z",
     "iopub.status.idle": "2024-09-05T05:32:04.653159Z",
     "shell.execute_reply": "2024-09-05T05:32:04.652191Z"
    },
    "papermill": {
     "duration": 8.198804,
     "end_time": "2024-09-05T05:32:04.655652",
     "exception": false,
     "start_time": "2024-09-05T05:31:56.456848",
     "status": "completed"
    },
    "tags": []
   },
   "outputs": [],
   "source": [
    "y_true = []\n",
    "for images, labels in test_dataset:\n",
    "    y_true.extend(labels.numpy())\n",
    "\n",
    "y_true = tf.convert_to_tensor(y_true)"
   ]
  },
  {
   "cell_type": "code",
   "execution_count": 19,
   "id": "433e1ba5",
   "metadata": {
    "execution": {
     "iopub.execute_input": "2024-09-05T05:32:08.920908Z",
     "iopub.status.busy": "2024-09-05T05:32:08.920477Z",
     "iopub.status.idle": "2024-09-05T05:32:08.932043Z",
     "shell.execute_reply": "2024-09-05T05:32:08.930849Z"
    },
    "papermill": {
     "duration": 2.152675,
     "end_time": "2024-09-05T05:32:08.934472",
     "exception": false,
     "start_time": "2024-09-05T05:32:06.781797",
     "status": "completed"
    },
    "tags": []
   },
   "outputs": [
    {
     "name": "stdout",
     "output_type": "stream",
     "text": [
      "Confusion Matrix:\n",
      "[[4570  922]\n",
      " [2247 3166]]\n"
     ]
    }
   ],
   "source": [
    "from sklearn.metrics import confusion_matrix\n",
    "\n",
    "# Compute the confusion matrix\n",
    "conf_matrix = confusion_matrix(y_true, y_pred_classes)\n",
    "\n",
    "# Display the confusion matrix\n",
    "print(\"Confusion Matrix:\")\n",
    "print(conf_matrix)"
   ]
  },
  {
   "cell_type": "markdown",
   "id": "4eabe829",
   "metadata": {
    "papermill": {
     "duration": 2.11436,
     "end_time": "2024-09-05T05:32:13.182211",
     "exception": false,
     "start_time": "2024-09-05T05:32:11.067851",
     "status": "completed"
    },
    "tags": []
   },
   "source": [
    "<h2 style=\"color: black;\">Confusion Matrix</h2>\n"
   ]
  },
  {
   "cell_type": "code",
   "execution_count": 20,
   "id": "28cc126e",
   "metadata": {
    "execution": {
     "iopub.execute_input": "2024-09-05T05:32:17.430713Z",
     "iopub.status.busy": "2024-09-05T05:32:17.430247Z",
     "iopub.status.idle": "2024-09-05T05:32:18.184594Z",
     "shell.execute_reply": "2024-09-05T05:32:18.183567Z"
    },
    "papermill": {
     "duration": 2.873631,
     "end_time": "2024-09-05T05:32:18.187382",
     "exception": false,
     "start_time": "2024-09-05T05:32:15.313751",
     "status": "completed"
    },
    "tags": []
   },
   "outputs": [
    {
     "data": {
      "image/png": "[encoded data removed]",
      "text/plain": [
       "<Figure size 1000x800 with 2 Axes>"
      ]
     },
     "metadata": {},
     "output_type": "display_data"
    }
   ],
   "source": [
    "import matplotlib.pyplot as plt\n",
    "import seaborn as sns\n",
    "\n",
    "# Plotting the confusion matrix\n",
    "plt.figure(figsize=(10, 8))\n",
    "sns.heatmap(conf_matrix, annot=True, fmt='d', cmap='Blues', xticklabels=class_names, yticklabels=class_names)\n",
    "plt.xlabel('Predicted Label')\n",
    "plt.ylabel('True Label')\n",
    "plt.title('Confusion Matrix')\n",
    "plt.show()"
   ]
  },
  {
   "cell_type": "markdown",
   "id": "e693b536",
   "metadata": {
    "papermill": {
     "duration": 2.091019,
     "end_time": "2024-09-05T05:32:22.358207",
     "exception": false,
     "start_time": "2024-09-05T05:32:20.267188",
     "status": "completed"
    },
    "tags": []
   },
   "source": [
    "<h2 style=\"color: black;\">Save The Model</h2>\n"
   ]
  },
  {
   "cell_type": "code",
   "execution_count": 21,
   "id": "a430e97e",
   "metadata": {
    "execution": {
     "iopub.execute_input": "2024-09-05T05:32:26.623644Z",
     "iopub.status.busy": "2024-09-05T05:32:26.622986Z",
     "iopub.status.idle": "2024-09-05T05:32:27.019370Z",
     "shell.execute_reply": "2024-09-05T05:32:27.018278Z"
    },
    "papermill": {
     "duration": 2.49463,
     "end_time": "2024-09-05T05:32:27.021956",
     "exception": false,
     "start_time": "2024-09-05T05:32:24.527326",
     "status": "completed"
    },
    "tags": []
   },
   "outputs": [],
   "source": [
    "model.save('deepfake.h5')"
   ]
  },
  {
   "cell_type": "code",
   "execution_count": null,
   "id": "6b3810c4",
   "metadata": {
    "papermill": {
     "duration": 2.139178,
     "end_time": "2024-09-05T05:32:31.269597",
     "exception": false,
     "start_time": "2024-09-05T05:32:29.130419",
     "status": "completed"
    },
    "tags": []
   },
   "outputs": [],
   "source": []
  },
  {
   "cell_type": "code",
   "execution_count": null,
   "id": "f7e234b8",
   "metadata": {
    "papermill": {
     "duration": 2.134808,
     "end_time": "2024-09-05T05:32:35.512415",
     "exception": false,
     "start_time": "2024-09-05T05:32:33.377607",
     "status": "completed"
    },
    "tags": []
   },
   "outputs": [],
   "source": []
  },
  {
   "cell_type": "code",
   "execution_count": null,
   "id": "73a75a49",
   "metadata": {
    "papermill": {
     "duration": 2.138732,
     "end_time": "2024-09-05T05:32:39.772474",
     "exception": false,
     "start_time": "2024-09-05T05:32:37.633742",
     "status": "completed"
    },
    "tags": []
   },
   "outputs": [],
   "source": []
  }
 ],
 "metadata": {
  "kaggle": {
   "accelerator": "nvidiaTeslaT4",
   "dataSources": [
    {
     "datasetId": 1909705,
     "sourceId": 3134515,
     "sourceType": "datasetVersion"
    }
   ],
   "dockerImageVersionId": 30762,
   "isGpuEnabled": true,
   "isInternetEnabled": true,
   "language": "python",
   "sourceType": "notebook"
  },
  "kernelspec": {
   "display_name": "Python 3",
   "language": "python",
   "name": "python3"
  },
  "language_info": {
   "codemirror_mode": {
    "name": "ipython",
    "version": 3
   },
   "file_extension": ".py",
   "mimetype": "text/x-python",
   "name": "python",
   "nbconvert_exporter": "python",
   "pygments_lexer": "ipython3",
   "version": "3.10.14"
  },
  "papermill": {
   "default_parameters": {},
   "duration": 4239.032182,
   "end_time": "2024-09-05T05:32:45.377296",
   "environment_variables": {},
   "exception": null,
   "input_path": "__notebook__.ipynb",
   "output_path": "__notebook__.ipynb",
   "parameters": {},
   "start_time": "2024-09-05T04:22:06.345114",
   "version": "2.6.0"
  }
 },
 "nbformat": 4,
 "nbformat_minor": 5
}
